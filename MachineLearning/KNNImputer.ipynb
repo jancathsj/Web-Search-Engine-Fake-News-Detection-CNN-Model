{
 "cells": [
  {
   "cell_type": "code",
   "execution_count": 1,
   "id": "dcbf35f8-4da6-4f96-9cdc-5f1b47e9e3c6",
   "metadata": {},
   "outputs": [
    {
     "name": "stdout",
     "output_type": "stream",
     "text": [
      "3.8.10 (tags/v3.8.10:3d8993a, May  3 2021, 11:48:03) [MSC v.1928 64 bit (AMD64)]\n"
     ]
    }
   ],
   "source": [
    "%%script C:\\Users\\Jan Catherine\\AppData\\Local\\Programs\\Python\\Python38\\python.exe\n",
    "import sys\n",
    "print(sys.version)\n",
    "\n",
    "\n",
    "\n"
   ]
  },
  {
   "cell_type": "code",
   "execution_count": 2,
   "id": "e2e57f69-ad4d-4120-96ea-05673fd7e938",
   "metadata": {},
   "outputs": [],
   "source": [
    "import os\n",
    "os.chdir('../../Data_Collection_03/02_Preprocessing/02_URL')\n"
   ]
  },
  {
   "cell_type": "code",
   "execution_count": 3,
   "id": "dcda6c19-3820-4414-a482-8a6366a90573",
   "metadata": {},
   "outputs": [],
   "source": [
    "import pandas as pd\n",
    "import numpy as np"
   ]
  },
  {
   "cell_type": "code",
   "execution_count": 4,
   "id": "bf4d3d2b-b7e3-42d1-9031-f95aabaaaaa8",
   "metadata": {},
   "outputs": [],
   "source": [
    "train = pd.read_csv('06_test_urlfeat.csv', encoding= 'unicode_escape')\n",
    "#test = pd.read_csv('06_test_urlfeat.csv', encoding= 'unicode_escape')"
   ]
  },
  {
   "cell_type": "code",
   "execution_count": 5,
   "id": "667140f8-1cec-40c9-a561-ece837070601",
   "metadata": {},
   "outputs": [
    {
     "name": "stdout",
     "output_type": "stream",
     "text": [
      "<class 'pandas.core.frame.DataFrame'>\n",
      "RangeIndex: 850 entries, 0 to 849\n",
      "Data columns (total 25 columns):\n",
      " #   Column         Non-Null Count  Dtype  \n",
      "---  ------         --------------  -----  \n",
      " 0   registered     847 non-null    float64\n",
      " 1   entropy        850 non-null    float64\n",
      " 2   domDigitStart  850 non-null    bool   \n",
      " 3   numDigits      850 non-null    int64  \n",
      " 4   numDots        850 non-null    int64  \n",
      " 5   numSemicolon   850 non-null    int64  \n",
      " 6   numAmpersand   850 non-null    int64  \n",
      " 7   numSlash       850 non-null    int64  \n",
      " 8   numHyphen      850 non-null    int64  \n",
      " 9   numUnderscore  850 non-null    int64  \n",
      " 10  numEqual       850 non-null    int64  \n",
      " 11  numQuestion    850 non-null    int64  \n",
      " 12  urlLength      850 non-null    int64  \n",
      " 13  numParams      850 non-null    int64  \n",
      " 14  hasHttp        850 non-null    bool   \n",
      " 15  hasHttps       850 non-null    bool   \n",
      " 16  ext            850 non-null    object \n",
      " 17  num_%20        850 non-null    int64  \n",
      " 18  num_@          850 non-null    int64  \n",
      " 19  has_ip         850 non-null    int64  \n",
      " 20  word_blog      850 non-null    bool   \n",
      " 21  word_socmed    850 non-null    bool   \n",
      " 22  word_news      850 non-null    bool   \n",
      " 23  word_covid     850 non-null    bool   \n",
      " 24  Fake           850 non-null    int64  \n",
      "dtypes: bool(7), float64(2), int64(15), object(1)\n",
      "memory usage: 125.5+ KB\n"
     ]
    }
   ],
   "source": [
    "\n",
    "train.info()\n"
   ]
  },
  {
   "cell_type": "code",
   "execution_count": 6,
   "id": "121f6cc9-a423-4904-bc31-1362f36ac855",
   "metadata": {},
   "outputs": [],
   "source": [
    "#test.info()"
   ]
  },
  {
   "cell_type": "code",
   "execution_count": 7,
   "id": "13a2fc4f-b4ee-45d0-bd39-779fa0decfd8",
   "metadata": {},
   "outputs": [
    {
     "data": {
      "text/plain": [
       "registered       3\n",
       "entropy          0\n",
       "domDigitStart    0\n",
       "numDigits        0\n",
       "numDots          0\n",
       "numSemicolon     0\n",
       "numAmpersand     0\n",
       "numSlash         0\n",
       "numHyphen        0\n",
       "numUnderscore    0\n",
       "numEqual         0\n",
       "numQuestion      0\n",
       "urlLength        0\n",
       "numParams        0\n",
       "hasHttp          0\n",
       "hasHttps         0\n",
       "ext              0\n",
       "num_%20          0\n",
       "num_@            0\n",
       "has_ip           0\n",
       "word_blog        0\n",
       "word_socmed      0\n",
       "word_news        0\n",
       "word_covid       0\n",
       "Fake             0\n",
       "dtype: int64"
      ]
     },
     "execution_count": 7,
     "metadata": {},
     "output_type": "execute_result"
    }
   ],
   "source": [
    "train.isnull().sum()"
   ]
  },
  {
   "cell_type": "code",
   "execution_count": 8,
   "id": "3f8b80ca-1ead-4dda-a588-eec11043c62a",
   "metadata": {},
   "outputs": [],
   "source": [
    "#test.isnull().sum()\n"
   ]
  },
  {
   "cell_type": "code",
   "execution_count": 9,
   "id": "65b5c8d8-ab9a-4ed8-a398-b90be1b26b1d",
   "metadata": {},
   "outputs": [
    {
     "data": {
      "text/plain": [
       "850"
      ]
     },
     "execution_count": 9,
     "metadata": {},
     "output_type": "execute_result"
    }
   ],
   "source": [
    "len(train)"
   ]
  },
  {
   "cell_type": "code",
   "execution_count": 10,
   "id": "329ffeb9-e322-4a7d-ae89-0352505a5d4a",
   "metadata": {},
   "outputs": [
    {
     "data": {
      "text/plain": [
       "registered       0.003529\n",
       "entropy          0.000000\n",
       "domDigitStart    0.000000\n",
       "numDigits        0.000000\n",
       "numDots          0.000000\n",
       "numSemicolon     0.000000\n",
       "numAmpersand     0.000000\n",
       "numSlash         0.000000\n",
       "numHyphen        0.000000\n",
       "numUnderscore    0.000000\n",
       "numEqual         0.000000\n",
       "numQuestion      0.000000\n",
       "urlLength        0.000000\n",
       "numParams        0.000000\n",
       "hasHttp          0.000000\n",
       "hasHttps         0.000000\n",
       "ext              0.000000\n",
       "num_%20          0.000000\n",
       "num_@            0.000000\n",
       "has_ip           0.000000\n",
       "word_blog        0.000000\n",
       "word_socmed      0.000000\n",
       "word_news        0.000000\n",
       "word_covid       0.000000\n",
       "Fake             0.000000\n",
       "dtype: float64"
      ]
     },
     "execution_count": 10,
     "metadata": {},
     "output_type": "execute_result"
    }
   ],
   "source": [
    "train.isnull().sum()/len(train)"
   ]
  },
  {
   "cell_type": "code",
   "execution_count": 11,
   "id": "dfad1960-edcf-41d5-b8ef-124dde234a26",
   "metadata": {},
   "outputs": [],
   "source": [
    "#test.isnull().sum()/len(test)"
   ]
  },
  {
   "cell_type": "code",
   "execution_count": 12,
   "id": "8e11a361-f42f-408d-acd7-1b742a112ef6",
   "metadata": {},
   "outputs": [],
   "source": [
    "y = train['Fake']\n",
    "X = train.drop(['Fake'], axis = 1)"
   ]
  },
  {
   "cell_type": "code",
   "execution_count": 13,
   "id": "343c3ec4-7c58-469c-b1d7-482a86d379d0",
   "metadata": {},
   "outputs": [
    {
     "data": {
      "text/plain": [
       "0    699\n",
       "1    151\n",
       "Name: Fake, dtype: int64"
      ]
     },
     "execution_count": 13,
     "metadata": {},
     "output_type": "execute_result"
    }
   ],
   "source": [
    "y.value_counts()"
   ]
  },
  {
   "cell_type": "code",
   "execution_count": 14,
   "id": "797117f5-9325-4d9c-9d75-e56aae134c28",
   "metadata": {},
   "outputs": [
    {
     "data": {
      "text/html": [
       "<div>\n",
       "<style scoped>\n",
       "    .dataframe tbody tr th:only-of-type {\n",
       "        vertical-align: middle;\n",
       "    }\n",
       "\n",
       "    .dataframe tbody tr th {\n",
       "        vertical-align: top;\n",
       "    }\n",
       "\n",
       "    .dataframe thead th {\n",
       "        text-align: right;\n",
       "    }\n",
       "</style>\n",
       "<table border=\"1\" class=\"dataframe\">\n",
       "  <thead>\n",
       "    <tr style=\"text-align: right;\">\n",
       "      <th></th>\n",
       "      <th>registered</th>\n",
       "      <th>entropy</th>\n",
       "      <th>domDigitStart</th>\n",
       "      <th>numDigits</th>\n",
       "      <th>numDots</th>\n",
       "      <th>numSemicolon</th>\n",
       "      <th>numAmpersand</th>\n",
       "      <th>numSlash</th>\n",
       "      <th>numHyphen</th>\n",
       "      <th>numUnderscore</th>\n",
       "      <th>...</th>\n",
       "      <th>hasHttp</th>\n",
       "      <th>hasHttps</th>\n",
       "      <th>ext</th>\n",
       "      <th>num_%20</th>\n",
       "      <th>num_@</th>\n",
       "      <th>has_ip</th>\n",
       "      <th>word_blog</th>\n",
       "      <th>word_socmed</th>\n",
       "      <th>word_news</th>\n",
       "      <th>word_covid</th>\n",
       "    </tr>\n",
       "  </thead>\n",
       "  <tbody>\n",
       "    <tr>\n",
       "      <th>0</th>\n",
       "      <td>2006.0</td>\n",
       "      <td>-4.202820</td>\n",
       "      <td>False</td>\n",
       "      <td>0</td>\n",
       "      <td>2</td>\n",
       "      <td>0</td>\n",
       "      <td>0</td>\n",
       "      <td>3</td>\n",
       "      <td>0</td>\n",
       "      <td>0</td>\n",
       "      <td>...</td>\n",
       "      <td>True</td>\n",
       "      <td>False</td>\n",
       "      <td>gov</td>\n",
       "      <td>0</td>\n",
       "      <td>0</td>\n",
       "      <td>0</td>\n",
       "      <td>False</td>\n",
       "      <td>False</td>\n",
       "      <td>False</td>\n",
       "      <td>False</td>\n",
       "    </tr>\n",
       "    <tr>\n",
       "      <th>1</th>\n",
       "      <td>2009.0</td>\n",
       "      <td>-4.346263</td>\n",
       "      <td>False</td>\n",
       "      <td>2</td>\n",
       "      <td>2</td>\n",
       "      <td>0</td>\n",
       "      <td>0</td>\n",
       "      <td>4</td>\n",
       "      <td>9</td>\n",
       "      <td>0</td>\n",
       "      <td>...</td>\n",
       "      <td>True</td>\n",
       "      <td>False</td>\n",
       "      <td>com</td>\n",
       "      <td>0</td>\n",
       "      <td>0</td>\n",
       "      <td>0</td>\n",
       "      <td>False</td>\n",
       "      <td>False</td>\n",
       "      <td>True</td>\n",
       "      <td>True</td>\n",
       "    </tr>\n",
       "    <tr>\n",
       "      <th>2</th>\n",
       "      <td>2009.0</td>\n",
       "      <td>-4.122574</td>\n",
       "      <td>False</td>\n",
       "      <td>3</td>\n",
       "      <td>2</td>\n",
       "      <td>0</td>\n",
       "      <td>0</td>\n",
       "      <td>5</td>\n",
       "      <td>2</td>\n",
       "      <td>0</td>\n",
       "      <td>...</td>\n",
       "      <td>True</td>\n",
       "      <td>False</td>\n",
       "      <td>com</td>\n",
       "      <td>0</td>\n",
       "      <td>0</td>\n",
       "      <td>0</td>\n",
       "      <td>False</td>\n",
       "      <td>False</td>\n",
       "      <td>False</td>\n",
       "      <td>False</td>\n",
       "    </tr>\n",
       "    <tr>\n",
       "      <th>3</th>\n",
       "      <td>2006.0</td>\n",
       "      <td>-4.471012</td>\n",
       "      <td>False</td>\n",
       "      <td>8</td>\n",
       "      <td>2</td>\n",
       "      <td>0</td>\n",
       "      <td>0</td>\n",
       "      <td>4</td>\n",
       "      <td>12</td>\n",
       "      <td>0</td>\n",
       "      <td>...</td>\n",
       "      <td>True</td>\n",
       "      <td>False</td>\n",
       "      <td>it</td>\n",
       "      <td>0</td>\n",
       "      <td>0</td>\n",
       "      <td>0</td>\n",
       "      <td>False</td>\n",
       "      <td>False</td>\n",
       "      <td>False</td>\n",
       "      <td>True</td>\n",
       "    </tr>\n",
       "    <tr>\n",
       "      <th>4</th>\n",
       "      <td>2011.0</td>\n",
       "      <td>-4.387262</td>\n",
       "      <td>True</td>\n",
       "      <td>5</td>\n",
       "      <td>1</td>\n",
       "      <td>0</td>\n",
       "      <td>0</td>\n",
       "      <td>5</td>\n",
       "      <td>3</td>\n",
       "      <td>0</td>\n",
       "      <td>...</td>\n",
       "      <td>False</td>\n",
       "      <td>True</td>\n",
       "      <td>org</td>\n",
       "      <td>0</td>\n",
       "      <td>0</td>\n",
       "      <td>0</td>\n",
       "      <td>False</td>\n",
       "      <td>False</td>\n",
       "      <td>False</td>\n",
       "      <td>False</td>\n",
       "    </tr>\n",
       "  </tbody>\n",
       "</table>\n",
       "<p>5 rows × 24 columns</p>\n",
       "</div>"
      ],
      "text/plain": [
       "   registered   entropy  domDigitStart  numDigits  numDots  numSemicolon  \\\n",
       "0      2006.0 -4.202820          False          0        2             0   \n",
       "1      2009.0 -4.346263          False          2        2             0   \n",
       "2      2009.0 -4.122574          False          3        2             0   \n",
       "3      2006.0 -4.471012          False          8        2             0   \n",
       "4      2011.0 -4.387262           True          5        1             0   \n",
       "\n",
       "   numAmpersand  numSlash  numHyphen  numUnderscore  ...  hasHttp  hasHttps  \\\n",
       "0             0         3          0              0  ...     True     False   \n",
       "1             0         4          9              0  ...     True     False   \n",
       "2             0         5          2              0  ...     True     False   \n",
       "3             0         4         12              0  ...     True     False   \n",
       "4             0         5          3              0  ...    False      True   \n",
       "\n",
       "   ext  num_%20  num_@  has_ip word_blog  word_socmed  word_news  word_covid  \n",
       "0  gov        0      0       0     False        False      False       False  \n",
       "1  com        0      0       0     False        False       True        True  \n",
       "2  com        0      0       0     False        False      False       False  \n",
       "3   it        0      0       0     False        False      False        True  \n",
       "4  org        0      0       0     False        False      False       False  \n",
       "\n",
       "[5 rows x 24 columns]"
      ]
     },
     "execution_count": 14,
     "metadata": {},
     "output_type": "execute_result"
    }
   ],
   "source": [
    "X.head()\n"
   ]
  },
  {
   "cell_type": "code",
   "execution_count": 15,
   "id": "14f6abca-70a8-4dee-a398-660ea03551bb",
   "metadata": {},
   "outputs": [
    {
     "name": "stdout",
     "output_type": "stream",
     "text": [
      "<class 'pandas.core.frame.DataFrame'>\n",
      "RangeIndex: 850 entries, 0 to 849\n",
      "Data columns (total 24 columns):\n",
      " #   Column         Non-Null Count  Dtype  \n",
      "---  ------         --------------  -----  \n",
      " 0   registered     847 non-null    float64\n",
      " 1   entropy        850 non-null    float64\n",
      " 2   domDigitStart  850 non-null    bool   \n",
      " 3   numDigits      850 non-null    int64  \n",
      " 4   numDots        850 non-null    int64  \n",
      " 5   numSemicolon   850 non-null    int64  \n",
      " 6   numAmpersand   850 non-null    int64  \n",
      " 7   numSlash       850 non-null    int64  \n",
      " 8   numHyphen      850 non-null    int64  \n",
      " 9   numUnderscore  850 non-null    int64  \n",
      " 10  numEqual       850 non-null    int64  \n",
      " 11  numQuestion    850 non-null    int64  \n",
      " 12  urlLength      850 non-null    int64  \n",
      " 13  numParams      850 non-null    int64  \n",
      " 14  hasHttp        850 non-null    bool   \n",
      " 15  hasHttps       850 non-null    bool   \n",
      " 16  ext            850 non-null    object \n",
      " 17  num_%20        850 non-null    int64  \n",
      " 18  num_@          850 non-null    int64  \n",
      " 19  has_ip         850 non-null    int64  \n",
      " 20  word_blog      850 non-null    bool   \n",
      " 21  word_socmed    850 non-null    bool   \n",
      " 22  word_news      850 non-null    bool   \n",
      " 23  word_covid     850 non-null    bool   \n",
      "dtypes: bool(7), float64(2), int64(14), object(1)\n",
      "memory usage: 118.8+ KB\n"
     ]
    }
   ],
   "source": [
    "X.info()"
   ]
  },
  {
   "cell_type": "code",
   "execution_count": 16,
   "id": "e2f142a8-5f72-48b1-929f-279197396175",
   "metadata": {},
   "outputs": [
    {
     "data": {
      "text/plain": [
       "array(['registered', 'entropy', 'numDigits', 'numDots', 'numSemicolon',\n",
       "       'numAmpersand', 'numSlash', 'numHyphen', 'numUnderscore',\n",
       "       'numEqual', 'numQuestion', 'urlLength', 'numParams', 'num_%20',\n",
       "       'num_@', 'has_ip'], dtype=object)"
      ]
     },
     "execution_count": 16,
     "metadata": {},
     "output_type": "execute_result"
    }
   ],
   "source": [
    "numerical_features = X.select_dtypes(include = ['int64','float64']).columns.values\n",
    "numerical_features"
   ]
  },
  {
   "cell_type": "code",
   "execution_count": 17,
   "id": "a17a7fa5-bad6-4ab3-8a21-8e9dc2760ae7",
   "metadata": {},
   "outputs": [
    {
     "data": {
      "text/plain": [
       "array(['domDigitStart', 'hasHttp', 'hasHttps', 'ext', 'word_blog',\n",
       "       'word_socmed', 'word_news', 'word_covid'], dtype=object)"
      ]
     },
     "execution_count": 17,
     "metadata": {},
     "output_type": "execute_result"
    }
   ],
   "source": [
    "categorical_features = X.select_dtypes(include = ['object','bool']).columns.values\n",
    "categorical_features"
   ]
  },
  {
   "cell_type": "code",
   "execution_count": 18,
   "id": "03348648-43ff-4d22-ae21-0456b6ed8ed2",
   "metadata": {},
   "outputs": [],
   "source": [
    "#CATEGORICAL FEATURES\n",
    "from sklearn.impute import SimpleImputer\n",
    "cat_impute = SimpleImputer(strategy='constant', fill_value = 'missing')"
   ]
  },
  {
   "cell_type": "code",
   "execution_count": 19,
   "id": "5dbe936f-5b5d-4bff-b225-8d093858f838",
   "metadata": {},
   "outputs": [
    {
     "data": {
      "text/html": [
       "<div>\n",
       "<style scoped>\n",
       "    .dataframe tbody tr th:only-of-type {\n",
       "        vertical-align: middle;\n",
       "    }\n",
       "\n",
       "    .dataframe tbody tr th {\n",
       "        vertical-align: top;\n",
       "    }\n",
       "\n",
       "    .dataframe thead th {\n",
       "        text-align: right;\n",
       "    }\n",
       "</style>\n",
       "<table border=\"1\" class=\"dataframe\">\n",
       "  <thead>\n",
       "    <tr style=\"text-align: right;\">\n",
       "      <th></th>\n",
       "      <th>domDigitStart</th>\n",
       "      <th>hasHttp</th>\n",
       "      <th>hasHttps</th>\n",
       "      <th>ext</th>\n",
       "      <th>word_blog</th>\n",
       "      <th>word_socmed</th>\n",
       "      <th>word_news</th>\n",
       "      <th>word_covid</th>\n",
       "    </tr>\n",
       "  </thead>\n",
       "  <tbody>\n",
       "    <tr>\n",
       "      <th>0</th>\n",
       "      <td>False</td>\n",
       "      <td>True</td>\n",
       "      <td>False</td>\n",
       "      <td>gov</td>\n",
       "      <td>False</td>\n",
       "      <td>False</td>\n",
       "      <td>False</td>\n",
       "      <td>False</td>\n",
       "    </tr>\n",
       "    <tr>\n",
       "      <th>1</th>\n",
       "      <td>False</td>\n",
       "      <td>True</td>\n",
       "      <td>False</td>\n",
       "      <td>com</td>\n",
       "      <td>False</td>\n",
       "      <td>False</td>\n",
       "      <td>True</td>\n",
       "      <td>True</td>\n",
       "    </tr>\n",
       "    <tr>\n",
       "      <th>2</th>\n",
       "      <td>False</td>\n",
       "      <td>True</td>\n",
       "      <td>False</td>\n",
       "      <td>com</td>\n",
       "      <td>False</td>\n",
       "      <td>False</td>\n",
       "      <td>False</td>\n",
       "      <td>False</td>\n",
       "    </tr>\n",
       "    <tr>\n",
       "      <th>3</th>\n",
       "      <td>False</td>\n",
       "      <td>True</td>\n",
       "      <td>False</td>\n",
       "      <td>it</td>\n",
       "      <td>False</td>\n",
       "      <td>False</td>\n",
       "      <td>False</td>\n",
       "      <td>True</td>\n",
       "    </tr>\n",
       "    <tr>\n",
       "      <th>4</th>\n",
       "      <td>True</td>\n",
       "      <td>False</td>\n",
       "      <td>True</td>\n",
       "      <td>org</td>\n",
       "      <td>False</td>\n",
       "      <td>False</td>\n",
       "      <td>False</td>\n",
       "      <td>False</td>\n",
       "    </tr>\n",
       "  </tbody>\n",
       "</table>\n",
       "</div>"
      ],
      "text/plain": [
       "   domDigitStart  hasHttp  hasHttps  ext  word_blog  word_socmed  word_news  \\\n",
       "0          False     True     False  gov      False        False      False   \n",
       "1          False     True     False  com      False        False       True   \n",
       "2          False     True     False  com      False        False      False   \n",
       "3          False     True     False   it      False        False      False   \n",
       "4           True    False      True  org      False        False      False   \n",
       "\n",
       "   word_covid  \n",
       "0       False  \n",
       "1        True  \n",
       "2       False  \n",
       "3        True  \n",
       "4       False  "
      ]
     },
     "execution_count": 19,
     "metadata": {},
     "output_type": "execute_result"
    }
   ],
   "source": [
    "X[categorical_features].head()"
   ]
  },
  {
   "cell_type": "code",
   "execution_count": 20,
   "id": "c4e38267-b050-4314-956d-e7652f84bf3d",
   "metadata": {},
   "outputs": [
    {
     "data": {
      "text/plain": [
       "SimpleImputer(fill_value='missing', strategy='constant')"
      ]
     },
     "execution_count": 20,
     "metadata": {},
     "output_type": "execute_result"
    }
   ],
   "source": [
    "cat_impute.fit(X[categorical_features])"
   ]
  },
  {
   "cell_type": "code",
   "execution_count": 21,
   "id": "bce179c8-10cd-478b-b1be-92ada67f29bb",
   "metadata": {},
   "outputs": [],
   "source": [
    "X[categorical_features] = cat_impute.transform(X[categorical_features])"
   ]
  },
  {
   "cell_type": "code",
   "execution_count": 22,
   "id": "5eae23d0-d3f1-43f8-b026-4b3ef2c764ee",
   "metadata": {},
   "outputs": [
    {
     "data": {
      "text/plain": [
       "domDigitStart    0\n",
       "hasHttp          0\n",
       "hasHttps         0\n",
       "ext              0\n",
       "word_blog        0\n",
       "word_socmed      0\n",
       "word_news        0\n",
       "word_covid       0\n",
       "dtype: int64"
      ]
     },
     "execution_count": 22,
     "metadata": {},
     "output_type": "execute_result"
    }
   ],
   "source": [
    "X[categorical_features].isnull().sum()"
   ]
  },
  {
   "cell_type": "code",
   "execution_count": 23,
   "id": "9c65d95e-2fe0-438b-99c1-feb9349ff818",
   "metadata": {},
   "outputs": [],
   "source": [
    "#NUMERICAL FEATURES\n",
    "from sklearn.impute import KNNImputer\n",
    "num_impute = KNNImputer()"
   ]
  },
  {
   "cell_type": "code",
   "execution_count": 24,
   "id": "c5fc0180-c0ef-40eb-8f33-049be248ebc4",
   "metadata": {},
   "outputs": [
    {
     "data": {
      "text/html": [
       "<div>\n",
       "<style scoped>\n",
       "    .dataframe tbody tr th:only-of-type {\n",
       "        vertical-align: middle;\n",
       "    }\n",
       "\n",
       "    .dataframe tbody tr th {\n",
       "        vertical-align: top;\n",
       "    }\n",
       "\n",
       "    .dataframe thead th {\n",
       "        text-align: right;\n",
       "    }\n",
       "</style>\n",
       "<table border=\"1\" class=\"dataframe\">\n",
       "  <thead>\n",
       "    <tr style=\"text-align: right;\">\n",
       "      <th></th>\n",
       "      <th>registered</th>\n",
       "      <th>entropy</th>\n",
       "      <th>numDigits</th>\n",
       "      <th>numDots</th>\n",
       "      <th>numSemicolon</th>\n",
       "      <th>numAmpersand</th>\n",
       "      <th>numSlash</th>\n",
       "      <th>numHyphen</th>\n",
       "      <th>numUnderscore</th>\n",
       "      <th>numEqual</th>\n",
       "      <th>numQuestion</th>\n",
       "      <th>urlLength</th>\n",
       "      <th>numParams</th>\n",
       "      <th>num_%20</th>\n",
       "      <th>num_@</th>\n",
       "      <th>has_ip</th>\n",
       "    </tr>\n",
       "  </thead>\n",
       "  <tbody>\n",
       "    <tr>\n",
       "      <th>0</th>\n",
       "      <td>2006.0</td>\n",
       "      <td>-4.202820</td>\n",
       "      <td>0</td>\n",
       "      <td>2</td>\n",
       "      <td>0</td>\n",
       "      <td>0</td>\n",
       "      <td>3</td>\n",
       "      <td>0</td>\n",
       "      <td>0</td>\n",
       "      <td>0</td>\n",
       "      <td>0</td>\n",
       "      <td>32</td>\n",
       "      <td>0</td>\n",
       "      <td>0</td>\n",
       "      <td>0</td>\n",
       "      <td>0</td>\n",
       "    </tr>\n",
       "    <tr>\n",
       "      <th>1</th>\n",
       "      <td>2009.0</td>\n",
       "      <td>-4.346263</td>\n",
       "      <td>2</td>\n",
       "      <td>2</td>\n",
       "      <td>0</td>\n",
       "      <td>0</td>\n",
       "      <td>4</td>\n",
       "      <td>9</td>\n",
       "      <td>0</td>\n",
       "      <td>1</td>\n",
       "      <td>1</td>\n",
       "      <td>112</td>\n",
       "      <td>0</td>\n",
       "      <td>0</td>\n",
       "      <td>0</td>\n",
       "      <td>0</td>\n",
       "    </tr>\n",
       "    <tr>\n",
       "      <th>2</th>\n",
       "      <td>2009.0</td>\n",
       "      <td>-4.122574</td>\n",
       "      <td>3</td>\n",
       "      <td>2</td>\n",
       "      <td>0</td>\n",
       "      <td>0</td>\n",
       "      <td>5</td>\n",
       "      <td>2</td>\n",
       "      <td>0</td>\n",
       "      <td>0</td>\n",
       "      <td>0</td>\n",
       "      <td>40</td>\n",
       "      <td>0</td>\n",
       "      <td>0</td>\n",
       "      <td>0</td>\n",
       "      <td>0</td>\n",
       "    </tr>\n",
       "    <tr>\n",
       "      <th>3</th>\n",
       "      <td>2006.0</td>\n",
       "      <td>-4.471012</td>\n",
       "      <td>8</td>\n",
       "      <td>2</td>\n",
       "      <td>0</td>\n",
       "      <td>0</td>\n",
       "      <td>4</td>\n",
       "      <td>12</td>\n",
       "      <td>0</td>\n",
       "      <td>0</td>\n",
       "      <td>0</td>\n",
       "      <td>101</td>\n",
       "      <td>0</td>\n",
       "      <td>0</td>\n",
       "      <td>0</td>\n",
       "      <td>0</td>\n",
       "    </tr>\n",
       "    <tr>\n",
       "      <th>4</th>\n",
       "      <td>2011.0</td>\n",
       "      <td>-4.387262</td>\n",
       "      <td>5</td>\n",
       "      <td>1</td>\n",
       "      <td>0</td>\n",
       "      <td>0</td>\n",
       "      <td>5</td>\n",
       "      <td>3</td>\n",
       "      <td>0</td>\n",
       "      <td>0</td>\n",
       "      <td>0</td>\n",
       "      <td>74</td>\n",
       "      <td>0</td>\n",
       "      <td>0</td>\n",
       "      <td>0</td>\n",
       "      <td>0</td>\n",
       "    </tr>\n",
       "  </tbody>\n",
       "</table>\n",
       "</div>"
      ],
      "text/plain": [
       "   registered   entropy  numDigits  numDots  numSemicolon  numAmpersand  \\\n",
       "0      2006.0 -4.202820          0        2             0             0   \n",
       "1      2009.0 -4.346263          2        2             0             0   \n",
       "2      2009.0 -4.122574          3        2             0             0   \n",
       "3      2006.0 -4.471012          8        2             0             0   \n",
       "4      2011.0 -4.387262          5        1             0             0   \n",
       "\n",
       "   numSlash  numHyphen  numUnderscore  numEqual  numQuestion  urlLength  \\\n",
       "0         3          0              0         0            0         32   \n",
       "1         4          9              0         1            1        112   \n",
       "2         5          2              0         0            0         40   \n",
       "3         4         12              0         0            0        101   \n",
       "4         5          3              0         0            0         74   \n",
       "\n",
       "   numParams  num_%20  num_@  has_ip  \n",
       "0          0        0      0       0  \n",
       "1          0        0      0       0  \n",
       "2          0        0      0       0  \n",
       "3          0        0      0       0  \n",
       "4          0        0      0       0  "
      ]
     },
     "execution_count": 24,
     "metadata": {},
     "output_type": "execute_result"
    }
   ],
   "source": [
    "X[numerical_features].head()"
   ]
  },
  {
   "cell_type": "code",
   "execution_count": 25,
   "id": "b1ad4a2e-3d61-47ae-9e8b-af986a67b952",
   "metadata": {},
   "outputs": [
    {
     "data": {
      "text/plain": [
       "KNNImputer()"
      ]
     },
     "execution_count": 25,
     "metadata": {},
     "output_type": "execute_result"
    }
   ],
   "source": [
    "num_impute.fit(X[numerical_features])"
   ]
  },
  {
   "cell_type": "code",
   "execution_count": 26,
   "id": "5b462563-d0de-473c-8df2-54b8019506ba",
   "metadata": {},
   "outputs": [],
   "source": [
    "X[numerical_features] = num_impute.transform(X[numerical_features])"
   ]
  },
  {
   "cell_type": "code",
   "execution_count": 27,
   "id": "f58b2119-2ac9-42ff-a74a-d57cbbda3d5a",
   "metadata": {},
   "outputs": [],
   "source": [
    "#test[numerical_features] = num_impute.transform(test[numerical_features])"
   ]
  },
  {
   "cell_type": "code",
   "execution_count": 28,
   "id": "94299b51-88c3-4c8a-9a62-0ba540b3099e",
   "metadata": {},
   "outputs": [
    {
     "data": {
      "text/plain": [
       "registered       0\n",
       "entropy          0\n",
       "domDigitStart    0\n",
       "numDigits        0\n",
       "numDots          0\n",
       "numSemicolon     0\n",
       "numAmpersand     0\n",
       "numSlash         0\n",
       "numHyphen        0\n",
       "numUnderscore    0\n",
       "numEqual         0\n",
       "numQuestion      0\n",
       "urlLength        0\n",
       "numParams        0\n",
       "hasHttp          0\n",
       "hasHttps         0\n",
       "ext              0\n",
       "num_%20          0\n",
       "num_@            0\n",
       "has_ip           0\n",
       "word_blog        0\n",
       "word_socmed      0\n",
       "word_news        0\n",
       "word_covid       0\n",
       "dtype: int64"
      ]
     },
     "execution_count": 28,
     "metadata": {},
     "output_type": "execute_result"
    }
   ],
   "source": [
    "X.isnull().sum()"
   ]
  },
  {
   "cell_type": "code",
   "execution_count": 29,
   "id": "ddd696c6-0f46-4aeb-9a69-f23c02e53a67",
   "metadata": {},
   "outputs": [],
   "source": [
    "#test.isnull().sum()"
   ]
  },
  {
   "cell_type": "code",
   "execution_count": 30,
   "id": "3b499a49-c050-427e-b224-6a06c5df6f6a",
   "metadata": {},
   "outputs": [],
   "source": [
    "#Export Imputed Features"
   ]
  },
  {
   "cell_type": "code",
   "execution_count": 31,
   "id": "ddb168a0-9003-46fa-a4b9-b32f7eb1e692",
   "metadata": {},
   "outputs": [
    {
     "data": {
      "text/html": [
       "<div>\n",
       "<style scoped>\n",
       "    .dataframe tbody tr th:only-of-type {\n",
       "        vertical-align: middle;\n",
       "    }\n",
       "\n",
       "    .dataframe tbody tr th {\n",
       "        vertical-align: top;\n",
       "    }\n",
       "\n",
       "    .dataframe thead th {\n",
       "        text-align: right;\n",
       "    }\n",
       "</style>\n",
       "<table border=\"1\" class=\"dataframe\">\n",
       "  <thead>\n",
       "    <tr style=\"text-align: right;\">\n",
       "      <th></th>\n",
       "      <th>Fake</th>\n",
       "      <th>registered</th>\n",
       "      <th>entropy</th>\n",
       "      <th>domDigitStart</th>\n",
       "      <th>numDigits</th>\n",
       "      <th>numDots</th>\n",
       "      <th>numSemicolon</th>\n",
       "      <th>numAmpersand</th>\n",
       "      <th>numSlash</th>\n",
       "      <th>numHyphen</th>\n",
       "      <th>...</th>\n",
       "      <th>hasHttp</th>\n",
       "      <th>hasHttps</th>\n",
       "      <th>ext</th>\n",
       "      <th>num_%20</th>\n",
       "      <th>num_@</th>\n",
       "      <th>has_ip</th>\n",
       "      <th>word_blog</th>\n",
       "      <th>word_socmed</th>\n",
       "      <th>word_news</th>\n",
       "      <th>word_covid</th>\n",
       "    </tr>\n",
       "  </thead>\n",
       "  <tbody>\n",
       "    <tr>\n",
       "      <th>0</th>\n",
       "      <td>0</td>\n",
       "      <td>2006.0</td>\n",
       "      <td>-4.202820</td>\n",
       "      <td>False</td>\n",
       "      <td>0.0</td>\n",
       "      <td>2.0</td>\n",
       "      <td>0.0</td>\n",
       "      <td>0.0</td>\n",
       "      <td>3.0</td>\n",
       "      <td>0.0</td>\n",
       "      <td>...</td>\n",
       "      <td>True</td>\n",
       "      <td>False</td>\n",
       "      <td>gov</td>\n",
       "      <td>0.0</td>\n",
       "      <td>0.0</td>\n",
       "      <td>0.0</td>\n",
       "      <td>False</td>\n",
       "      <td>False</td>\n",
       "      <td>False</td>\n",
       "      <td>False</td>\n",
       "    </tr>\n",
       "    <tr>\n",
       "      <th>1</th>\n",
       "      <td>0</td>\n",
       "      <td>2009.0</td>\n",
       "      <td>-4.346263</td>\n",
       "      <td>False</td>\n",
       "      <td>2.0</td>\n",
       "      <td>2.0</td>\n",
       "      <td>0.0</td>\n",
       "      <td>0.0</td>\n",
       "      <td>4.0</td>\n",
       "      <td>9.0</td>\n",
       "      <td>...</td>\n",
       "      <td>True</td>\n",
       "      <td>False</td>\n",
       "      <td>com</td>\n",
       "      <td>0.0</td>\n",
       "      <td>0.0</td>\n",
       "      <td>0.0</td>\n",
       "      <td>False</td>\n",
       "      <td>False</td>\n",
       "      <td>True</td>\n",
       "      <td>True</td>\n",
       "    </tr>\n",
       "    <tr>\n",
       "      <th>2</th>\n",
       "      <td>0</td>\n",
       "      <td>2009.0</td>\n",
       "      <td>-4.122574</td>\n",
       "      <td>False</td>\n",
       "      <td>3.0</td>\n",
       "      <td>2.0</td>\n",
       "      <td>0.0</td>\n",
       "      <td>0.0</td>\n",
       "      <td>5.0</td>\n",
       "      <td>2.0</td>\n",
       "      <td>...</td>\n",
       "      <td>True</td>\n",
       "      <td>False</td>\n",
       "      <td>com</td>\n",
       "      <td>0.0</td>\n",
       "      <td>0.0</td>\n",
       "      <td>0.0</td>\n",
       "      <td>False</td>\n",
       "      <td>False</td>\n",
       "      <td>False</td>\n",
       "      <td>False</td>\n",
       "    </tr>\n",
       "    <tr>\n",
       "      <th>3</th>\n",
       "      <td>0</td>\n",
       "      <td>2006.0</td>\n",
       "      <td>-4.471012</td>\n",
       "      <td>False</td>\n",
       "      <td>8.0</td>\n",
       "      <td>2.0</td>\n",
       "      <td>0.0</td>\n",
       "      <td>0.0</td>\n",
       "      <td>4.0</td>\n",
       "      <td>12.0</td>\n",
       "      <td>...</td>\n",
       "      <td>True</td>\n",
       "      <td>False</td>\n",
       "      <td>it</td>\n",
       "      <td>0.0</td>\n",
       "      <td>0.0</td>\n",
       "      <td>0.0</td>\n",
       "      <td>False</td>\n",
       "      <td>False</td>\n",
       "      <td>False</td>\n",
       "      <td>True</td>\n",
       "    </tr>\n",
       "    <tr>\n",
       "      <th>4</th>\n",
       "      <td>0</td>\n",
       "      <td>2011.0</td>\n",
       "      <td>-4.387262</td>\n",
       "      <td>True</td>\n",
       "      <td>5.0</td>\n",
       "      <td>1.0</td>\n",
       "      <td>0.0</td>\n",
       "      <td>0.0</td>\n",
       "      <td>5.0</td>\n",
       "      <td>3.0</td>\n",
       "      <td>...</td>\n",
       "      <td>False</td>\n",
       "      <td>True</td>\n",
       "      <td>org</td>\n",
       "      <td>0.0</td>\n",
       "      <td>0.0</td>\n",
       "      <td>0.0</td>\n",
       "      <td>False</td>\n",
       "      <td>False</td>\n",
       "      <td>False</td>\n",
       "      <td>False</td>\n",
       "    </tr>\n",
       "  </tbody>\n",
       "</table>\n",
       "<p>5 rows × 25 columns</p>\n",
       "</div>"
      ],
      "text/plain": [
       "   Fake  registered   entropy domDigitStart  numDigits  numDots  numSemicolon  \\\n",
       "0     0      2006.0 -4.202820         False        0.0      2.0           0.0   \n",
       "1     0      2009.0 -4.346263         False        2.0      2.0           0.0   \n",
       "2     0      2009.0 -4.122574         False        3.0      2.0           0.0   \n",
       "3     0      2006.0 -4.471012         False        8.0      2.0           0.0   \n",
       "4     0      2011.0 -4.387262          True        5.0      1.0           0.0   \n",
       "\n",
       "   numAmpersand  numSlash  numHyphen  ...  hasHttp  hasHttps  ext  num_%20  \\\n",
       "0           0.0       3.0        0.0  ...     True     False  gov      0.0   \n",
       "1           0.0       4.0        9.0  ...     True     False  com      0.0   \n",
       "2           0.0       5.0        2.0  ...     True     False  com      0.0   \n",
       "3           0.0       4.0       12.0  ...     True     False   it      0.0   \n",
       "4           0.0       5.0        3.0  ...    False      True  org      0.0   \n",
       "\n",
       "   num_@ has_ip word_blog word_socmed  word_news  word_covid  \n",
       "0    0.0    0.0     False       False      False       False  \n",
       "1    0.0    0.0     False       False       True        True  \n",
       "2    0.0    0.0     False       False      False       False  \n",
       "3    0.0    0.0     False       False      False        True  \n",
       "4    0.0    0.0     False       False      False       False  \n",
       "\n",
       "[5 rows x 25 columns]"
      ]
     },
     "execution_count": 31,
     "metadata": {},
     "output_type": "execute_result"
    }
   ],
   "source": [
    "imputed_train = pd.concat([y,X], axis = 1)\n",
    "\n",
    "imputed_train.head()"
   ]
  },
  {
   "cell_type": "code",
   "execution_count": 32,
   "id": "390905a4-eace-48df-b8ce-a173c2004285",
   "metadata": {},
   "outputs": [],
   "source": [
    "imputed_train['registered'] = imputed_train['registered'].astype('int')"
   ]
  },
  {
   "cell_type": "code",
   "execution_count": 33,
   "id": "b7fef41b-aa54-47ff-8e40-2cc2fae6b71a",
   "metadata": {},
   "outputs": [],
   "source": [
    "imputed_train.to_csv('Test_imputed.csv')"
   ]
  },
  {
   "cell_type": "code",
   "execution_count": 34,
   "id": "d2337da7-5070-49ba-acf2-b704c4b78571",
   "metadata": {},
   "outputs": [],
   "source": [
    "#test.head()"
   ]
  },
  {
   "cell_type": "code",
   "execution_count": 35,
   "id": "37cd9d56-1962-40c3-91f1-8ffb37823725",
   "metadata": {},
   "outputs": [],
   "source": [
    "#test['registered'] = test['registered'].astype('int')"
   ]
  },
  {
   "cell_type": "code",
   "execution_count": 36,
   "id": "2e6550dc-ae76-4d5f-88c8-0f2af8b17ed4",
   "metadata": {},
   "outputs": [],
   "source": [
    "#test.to_csv('Test_imputed.csv')"
   ]
  },
  {
   "cell_type": "code",
   "execution_count": null,
   "id": "6f464d38-71dc-43f6-8c18-8b8194cee06d",
   "metadata": {},
   "outputs": [],
   "source": []
  }
 ],
 "metadata": {
  "kernelspec": {
   "display_name": "Python 3 (ipykernel)",
   "language": "python",
   "name": "python3"
  },
  "language_info": {
   "codemirror_mode": {
    "name": "ipython",
    "version": 3
   },
   "file_extension": ".py",
   "mimetype": "text/x-python",
   "name": "python",
   "nbconvert_exporter": "python",
   "pygments_lexer": "ipython3",
   "version": "3.9.13"
  }
 },
 "nbformat": 4,
 "nbformat_minor": 5
}
