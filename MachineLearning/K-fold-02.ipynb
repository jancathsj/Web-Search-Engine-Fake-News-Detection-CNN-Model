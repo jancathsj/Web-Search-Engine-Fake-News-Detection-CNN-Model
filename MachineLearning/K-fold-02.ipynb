{
 "cells": [
  {
   "cell_type": "code",
   "execution_count": 1,
   "id": "1b4d2a2d-1f93-4d9c-9b5a-9c5decd2b154",
   "metadata": {},
   "outputs": [
    {
     "name": "stdout",
     "output_type": "stream",
     "text": [
      "3.8.10 (tags/v3.8.10:3d8993a, May  3 2021, 11:48:03) [MSC v.1928 64 bit (AMD64)]\n"
     ]
    }
   ],
   "source": [
    "%%script C:\\Users\\Jan Catherine\\AppData\\Local\\Programs\\Python\\Python38\\python.exe\n",
    "import sys\n",
    "print(sys.version)"
   ]
  },
  {
   "cell_type": "code",
   "execution_count": 2,
   "id": "aa842080-3763-47fb-a6bd-7085fb9916a6",
   "metadata": {},
   "outputs": [
    {
     "data": {
      "text/plain": [
       "'C:\\\\Users\\\\Jan Catherine\\\\Documents\\\\CMSC Notes\\\\CMSC 190 Part 2\\\\Codes\\\\MachineLearning'"
      ]
     },
     "execution_count": 2,
     "metadata": {},
     "output_type": "execute_result"
    }
   ],
   "source": [
    "pwd"
   ]
  },
  {
   "cell_type": "code",
   "execution_count": 3,
   "id": "f0fc7a14-c017-4f55-84e4-a19a30fb2245",
   "metadata": {},
   "outputs": [],
   "source": [
    "import os\n",
    "os.chdir('../../Data_Collection_02/02_Preprocessing/04_ML')"
   ]
  },
  {
   "cell_type": "code",
   "execution_count": 4,
   "id": "ed444202-0c1b-49f4-a30a-860abca50161",
   "metadata": {},
   "outputs": [],
   "source": [
    "from sklearn.linear_model import LogisticRegression\n",
    "from sklearn import svm\n",
    "from sklearn.svm import SVC\n",
    "from sklearn.ensemble import RandomForestClassifier\n",
    "from sklearn.naive_bayes import GaussianNB\n",
    "from sklearn import linear_model\n",
    "from imblearn.over_sampling import SMOTE\n",
    "import numpy as np\n",
    "from sklearn.metrics import (\n",
    "    confusion_matrix,\n",
    "    accuracy_score,\n",
    "    precision_score,\n",
    "    recall_score,\n",
    "    f1_score\n",
    ")\n",
    "\n",
    "import matplotlib.pyplot as plt\n",
    "import pandas as pd\n",
    "dataset = pd.read_csv('02_ML_Train.csv',  delimiter=',')\n",
    "testdata = pd.read_csv('02_ML_Test.csv',  delimiter=',')"
   ]
  },
  {
   "cell_type": "code",
   "execution_count": 5,
   "id": "844e6b96-443a-4d61-81cb-250af66a0765",
   "metadata": {},
   "outputs": [],
   "source": [
    "#os.chdir('../../../Data_Collection_03/02_Preprocessing/04_ML')\n",
    "#testdata = pd.read_csv('02_ML_Dataset.csv',  delimiter=',')"
   ]
  },
  {
   "cell_type": "code",
   "execution_count": 6,
   "id": "5db6ab0a-7905-4673-a3e1-ce424f1c3b39",
   "metadata": {},
   "outputs": [],
   "source": [
    "#ext\n",
    "ordinal_label = {k: i for i, k in enumerate(dataset['ext'].unique(), 0)}\n",
    "dataset['ext'] = dataset['ext'].map(ordinal_label)\n",
    "\n",
    "#domDigitStart\n",
    "dataset['domDigitStart']=np.where(dataset['domDigitStart']==True,1,0)\n",
    "\n",
    "#hasHttp\n",
    "dataset['hasHttp']=np.where(dataset['hasHttp']==True,1,0)\n",
    "\n",
    "#hasHttps\n",
    "#dataset['hasHttps']=np.where(dataset['hasHttps']==True,1,0)\n",
    "\n",
    "#has_ip\n",
    "#dataset['has_ip']=np.where(dataset['has_ip']==True,1,0)\n",
    "\n",
    "#word_blog\n",
    "#dataset['word_blog']=np.where(dataset['word_blog']==True,1,0)\n",
    "\n",
    "#word_socmed\n",
    "dataset['word_socmed']=np.where(dataset['word_socmed']==True,1,0)\n",
    "\n",
    "#word_news\n",
    "dataset['word_news']=np.where(dataset['word_news']==True,1,0)\n",
    "\n",
    "#word_covid\n",
    "#dataset['word_covid']=np.where(dataset['word_covid']==True,1,0)\n"
   ]
  },
  {
   "cell_type": "code",
   "execution_count": 7,
   "id": "6e2d6646-fb94-4105-aa0a-9d0a06f1b599",
   "metadata": {},
   "outputs": [],
   "source": [
    "#ext\n",
    "ordinal_label = {k: i for i, k in enumerate(testdata['ext'].unique(), 0)}\n",
    "testdata['ext'] = testdata['ext'].map(ordinal_label)\n",
    "\n",
    "#domDigitStart\n",
    "testdata['domDigitStart']=np.where(testdata['domDigitStart']==True,1,0)\n",
    "\n",
    "#hasHttp\n",
    "testdata['hasHttp']=np.where(testdata['hasHttp']==True,1,0)\n",
    "\n",
    "#hasHttps\n",
    "#testdata['hasHttps']=np.where(testdata['hasHttps']==True,1,0)\n",
    "\n",
    "#has_ip\n",
    "#testdata['has_ip']=np.where(testdata['has_ip']==True,1,0)\n",
    "\n",
    "#word_blog\n",
    "#testdata['word_blog']=np.where(testdata['word_blog']==True,1,0)\n",
    "\n",
    "#word_socmed\n",
    "testdata['word_socmed']=np.where(testdata['word_socmed']==True,1,0)\n",
    "\n",
    "#word_news\n",
    "testdata['word_news']=np.where(testdata['word_news']==True,1,0)\n",
    "\n",
    "#word_covid\n",
    "#testdata['word_covid']=np.where(testdata['word_covid']==True,1,0)"
   ]
  },
  {
   "cell_type": "code",
   "execution_count": 8,
   "id": "748e4eee-13c4-48d4-bfbf-2ca25e4ade79",
   "metadata": {},
   "outputs": [
    {
     "data": {
      "text/html": [
       "<div>\n",
       "<style scoped>\n",
       "    .dataframe tbody tr th:only-of-type {\n",
       "        vertical-align: middle;\n",
       "    }\n",
       "\n",
       "    .dataframe tbody tr th {\n",
       "        vertical-align: top;\n",
       "    }\n",
       "\n",
       "    .dataframe thead th {\n",
       "        text-align: right;\n",
       "    }\n",
       "</style>\n",
       "<table border=\"1\" class=\"dataframe\">\n",
       "  <thead>\n",
       "    <tr style=\"text-align: right;\">\n",
       "      <th></th>\n",
       "      <th>0</th>\n",
       "      <th>0002100µm</th>\n",
       "      <th>1</th>\n",
       "      <th>12</th>\n",
       "      <th>01lm</th>\n",
       "      <th>2</th>\n",
       "      <th>3</th>\n",
       "      <th>033nm</th>\n",
       "      <th>4</th>\n",
       "      <th>5</th>\n",
       "      <th>...</th>\n",
       "      <th>numUnderscore</th>\n",
       "      <th>numEqual</th>\n",
       "      <th>hasHttp</th>\n",
       "      <th>ext</th>\n",
       "      <th>num_%20</th>\n",
       "      <th>num_@</th>\n",
       "      <th>registered.1</th>\n",
       "      <th>word_socmed</th>\n",
       "      <th>word_news</th>\n",
       "      <th>Fake</th>\n",
       "    </tr>\n",
       "  </thead>\n",
       "  <tbody>\n",
       "    <tr>\n",
       "      <th>0</th>\n",
       "      <td>0.0</td>\n",
       "      <td>0.0</td>\n",
       "      <td>0.0</td>\n",
       "      <td>0.0</td>\n",
       "      <td>0.0</td>\n",
       "      <td>0.0</td>\n",
       "      <td>0.0</td>\n",
       "      <td>0.0</td>\n",
       "      <td>0.0</td>\n",
       "      <td>0.0</td>\n",
       "      <td>...</td>\n",
       "      <td>0.0</td>\n",
       "      <td>0.0</td>\n",
       "      <td>0</td>\n",
       "      <td>0</td>\n",
       "      <td>0.0</td>\n",
       "      <td>0</td>\n",
       "      <td>0.228571</td>\n",
       "      <td>0</td>\n",
       "      <td>0</td>\n",
       "      <td>0</td>\n",
       "    </tr>\n",
       "    <tr>\n",
       "      <th>1</th>\n",
       "      <td>0.0</td>\n",
       "      <td>0.0</td>\n",
       "      <td>0.0</td>\n",
       "      <td>0.0</td>\n",
       "      <td>0.0</td>\n",
       "      <td>0.0</td>\n",
       "      <td>0.0</td>\n",
       "      <td>0.0</td>\n",
       "      <td>0.0</td>\n",
       "      <td>0.0</td>\n",
       "      <td>...</td>\n",
       "      <td>0.0</td>\n",
       "      <td>0.0</td>\n",
       "      <td>0</td>\n",
       "      <td>1</td>\n",
       "      <td>0.0</td>\n",
       "      <td>0</td>\n",
       "      <td>0.314286</td>\n",
       "      <td>0</td>\n",
       "      <td>0</td>\n",
       "      <td>0</td>\n",
       "    </tr>\n",
       "    <tr>\n",
       "      <th>2</th>\n",
       "      <td>0.0</td>\n",
       "      <td>0.0</td>\n",
       "      <td>0.0</td>\n",
       "      <td>0.0</td>\n",
       "      <td>0.0</td>\n",
       "      <td>0.0</td>\n",
       "      <td>0.0</td>\n",
       "      <td>0.0</td>\n",
       "      <td>0.0</td>\n",
       "      <td>0.0</td>\n",
       "      <td>...</td>\n",
       "      <td>0.0</td>\n",
       "      <td>0.0</td>\n",
       "      <td>0</td>\n",
       "      <td>1</td>\n",
       "      <td>0.0</td>\n",
       "      <td>0</td>\n",
       "      <td>0.514286</td>\n",
       "      <td>0</td>\n",
       "      <td>1</td>\n",
       "      <td>0</td>\n",
       "    </tr>\n",
       "    <tr>\n",
       "      <th>3</th>\n",
       "      <td>0.0</td>\n",
       "      <td>0.0</td>\n",
       "      <td>0.0</td>\n",
       "      <td>0.0</td>\n",
       "      <td>0.0</td>\n",
       "      <td>0.0</td>\n",
       "      <td>0.0</td>\n",
       "      <td>0.0</td>\n",
       "      <td>0.0</td>\n",
       "      <td>0.0</td>\n",
       "      <td>...</td>\n",
       "      <td>0.0</td>\n",
       "      <td>0.0</td>\n",
       "      <td>0</td>\n",
       "      <td>2</td>\n",
       "      <td>0.0</td>\n",
       "      <td>0</td>\n",
       "      <td>0.800000</td>\n",
       "      <td>0</td>\n",
       "      <td>0</td>\n",
       "      <td>0</td>\n",
       "    </tr>\n",
       "    <tr>\n",
       "      <th>4</th>\n",
       "      <td>0.0</td>\n",
       "      <td>0.0</td>\n",
       "      <td>0.0</td>\n",
       "      <td>0.0</td>\n",
       "      <td>0.0</td>\n",
       "      <td>0.0</td>\n",
       "      <td>0.0</td>\n",
       "      <td>0.0</td>\n",
       "      <td>0.0</td>\n",
       "      <td>0.0</td>\n",
       "      <td>...</td>\n",
       "      <td>0.0</td>\n",
       "      <td>0.0</td>\n",
       "      <td>0</td>\n",
       "      <td>1</td>\n",
       "      <td>0.0</td>\n",
       "      <td>0</td>\n",
       "      <td>0.257143</td>\n",
       "      <td>0</td>\n",
       "      <td>1</td>\n",
       "      <td>0</td>\n",
       "    </tr>\n",
       "  </tbody>\n",
       "</table>\n",
       "<p>5 rows × 9614 columns</p>\n",
       "</div>"
      ],
      "text/plain": [
       "     0  0002100µm    1   12  01lm    2    3  033nm    4    5  ...  \\\n",
       "0  0.0        0.0  0.0  0.0   0.0  0.0  0.0    0.0  0.0  0.0  ...   \n",
       "1  0.0        0.0  0.0  0.0   0.0  0.0  0.0    0.0  0.0  0.0  ...   \n",
       "2  0.0        0.0  0.0  0.0   0.0  0.0  0.0    0.0  0.0  0.0  ...   \n",
       "3  0.0        0.0  0.0  0.0   0.0  0.0  0.0    0.0  0.0  0.0  ...   \n",
       "4  0.0        0.0  0.0  0.0   0.0  0.0  0.0    0.0  0.0  0.0  ...   \n",
       "\n",
       "   numUnderscore  numEqual  hasHttp  ext  num_%20  num_@  registered.1  \\\n",
       "0            0.0       0.0        0    0      0.0      0      0.228571   \n",
       "1            0.0       0.0        0    1      0.0      0      0.314286   \n",
       "2            0.0       0.0        0    1      0.0      0      0.514286   \n",
       "3            0.0       0.0        0    2      0.0      0      0.800000   \n",
       "4            0.0       0.0        0    1      0.0      0      0.257143   \n",
       "\n",
       "   word_socmed  word_news  Fake  \n",
       "0            0          0     0  \n",
       "1            0          0     0  \n",
       "2            0          1     0  \n",
       "3            0          0     0  \n",
       "4            0          1     0  \n",
       "\n",
       "[5 rows x 9614 columns]"
      ]
     },
     "execution_count": 8,
     "metadata": {},
     "output_type": "execute_result"
    }
   ],
   "source": [
    "dataset.head()"
   ]
  },
  {
   "cell_type": "code",
   "execution_count": 9,
   "id": "fe00fe42-5ad1-460e-9577-19e229a2ebec",
   "metadata": {},
   "outputs": [
    {
     "data": {
      "text/plain": [
       "(6451, 9613)"
      ]
     },
     "execution_count": 9,
     "metadata": {},
     "output_type": "execute_result"
    }
   ],
   "source": [
    "X = dataset.drop(\"Fake\", axis=1)\n",
    "y = dataset[\"Fake\"]\n",
    "X.shape"
   ]
  },
  {
   "cell_type": "code",
   "execution_count": 10,
   "id": "860d7028-6952-483b-a861-fd7e18e3bfa0",
   "metadata": {},
   "outputs": [
    {
     "data": {
      "text/plain": [
       "(6451,)"
      ]
     },
     "execution_count": 10,
     "metadata": {},
     "output_type": "execute_result"
    }
   ],
   "source": [
    "y.shape"
   ]
  },
  {
   "cell_type": "code",
   "execution_count": 11,
   "id": "9de0bb1d-8dd3-4c7e-a65a-455032372c80",
   "metadata": {},
   "outputs": [
    {
     "data": {
      "text/plain": [
       "(1613, 9613)"
      ]
     },
     "execution_count": 11,
     "metadata": {},
     "output_type": "execute_result"
    }
   ],
   "source": [
    "Xtest = testdata.drop(\"Fake\", axis=1)\n",
    "ytest = testdata[\"Fake\"]\n",
    "Xtest.shape"
   ]
  },
  {
   "cell_type": "code",
   "execution_count": 12,
   "id": "4787dcde-4649-44e4-a37d-73bf3a124970",
   "metadata": {},
   "outputs": [
    {
     "data": {
      "text/plain": [
       "(1613,)"
      ]
     },
     "execution_count": 12,
     "metadata": {},
     "output_type": "execute_result"
    }
   ],
   "source": [
    "ytest.shape"
   ]
  },
  {
   "cell_type": "code",
   "execution_count": 13,
   "id": "cd0a5d19-1efc-4d4e-af34-a1a7f159c507",
   "metadata": {},
   "outputs": [],
   "source": [
    "#from sklearn.model_selection import train_test_split\n",
    "#X_train, X_test, y_train, y_test = train_test_split(X,y,test_size=0.2)\n",
    "X_train = X\n",
    "X_test = Xtest\n",
    "y_train = y\n",
    "y_test = ytest"
   ]
  },
  {
   "cell_type": "code",
   "execution_count": 14,
   "id": "9b91051c-93e6-48e1-abe6-1ee236f09e95",
   "metadata": {},
   "outputs": [],
   "source": [
    "from sklearn.model_selection import KFold\n",
    "kf = KFold(n_splits=5)"
   ]
  },
  {
   "cell_type": "code",
   "execution_count": 15,
   "id": "55ee66c2-dc47-48d2-94d6-85a361f2d005",
   "metadata": {},
   "outputs": [],
   "source": [
    "def score_model(model, params, cv):\n",
    "\n",
    "    smoter = SMOTE(random_state=42)\n",
    "    \n",
    "    pscores = []\n",
    "    ascores = []\n",
    "    rscores = []\n",
    "    fscores = []\n",
    "\n",
    "    for train_fold_index, val_fold_index in cv.split(X, y):\n",
    "        X_train_fold, y_train_fold = X.iloc[train_fold_index], y.iloc[train_fold_index]\n",
    "        X_val_fold, y_val_fold = X.iloc[val_fold_index], y.iloc[val_fold_index]\n",
    "\n",
    "        X_train_fold_upsample, y_train_fold_upsample = smoter.fit_resample(X_train_fold,\n",
    "                                                                           y_train_fold)\n",
    "        model_obj = model(**params).fit(X_train_fold_upsample, y_train_fold_upsample)\n",
    "\n",
    "        precisionscore = precision_score(y_val_fold, model_obj.predict(X_val_fold))\n",
    "        accuracyscore = accuracy_score(y_val_fold, model_obj.predict(X_val_fold))\n",
    "        recallscore = recall_score(y_val_fold, model_obj.predict(X_val_fold))\n",
    "        f1score = f1_score(y_val_fold, model_obj.predict(X_val_fold))\n",
    "        pscores.append(precisionscore)\n",
    "        ascores.append(accuracyscore)\n",
    "        rscores.append(recallscore)\n",
    "        fscores.append(f1score)\n",
    "        \n",
    "    scores = [pscores, ascores, rscores, fscores]\n",
    "    \n",
    "    precisionscore2 = precision_score(y_test, model_obj.predict(X_test))\n",
    "    accuracyscore2 = accuracy_score(y_test, model_obj.predict(X_test))\n",
    "    recallscore2 = recall_score(y_test, model_obj.predict(X_test))\n",
    "    f1score2 = f1_score(y_test, model_obj.predict(X_test))\n",
    "    \n",
    "    scores2 = [precisionscore2, accuracyscore2, recallscore2, f1score2]\n",
    "    scores_1 = np.array(scores)\n",
    "    scores_2 = np.array(scores2)\n",
    "    return scores_1, scores_2"
   ]
  },
  {
   "cell_type": "code",
   "execution_count": 16,
   "id": "d7ab07e0-1b2a-485e-be2d-145f46529b13",
   "metadata": {},
   "outputs": [],
   "source": [
    "def score_mean(scores):\n",
    "    \n",
    "    prec_m = (np.mean(scores[0]))\n",
    "    acc_m = (np.mean(scores[1]))\n",
    "    recall_m = (np.mean(scores[2]))\n",
    "    f1_m = (np.mean(scores[3]))     \n",
    "    results =np.asarray([prec_m, acc_m, recall_m, f1_m])\n",
    "    \n",
    "    return np.array(results)"
   ]
  },
  {
   "cell_type": "code",
   "execution_count": 17,
   "id": "15de6d90-5dfb-4519-a85e-7e7418ba3d39",
   "metadata": {},
   "outputs": [
    {
     "data": {
      "text/plain": [
       "'\"\\n#RANDOM FOREST\\nrfparams ={}\\nscores=score_model(RandomForestClassifier, rfparams, cv=kf)\\nprint(scores)\\n'"
      ]
     },
     "execution_count": 17,
     "metadata": {},
     "output_type": "execute_result"
    }
   ],
   "source": [
    "\"\"\"\"\n",
    "#RANDOM FOREST\n",
    "rfparams ={}\n",
    "scores=score_model(RandomForestClassifier, rfparams, cv=kf)\n",
    "print(scores)\n",
    "\"\"\""
   ]
  },
  {
   "cell_type": "code",
   "execution_count": 18,
   "id": "852bd040-8151-49e9-87a7-2aa692aaad34",
   "metadata": {
    "tags": []
   },
   "outputs": [
    {
     "data": {
      "text/plain": [
       "'\\nscoremean = score_mean(scores)\\nprint(scoremean)\\n'"
      ]
     },
     "execution_count": 18,
     "metadata": {},
     "output_type": "execute_result"
    }
   ],
   "source": [
    "\"\"\"\n",
    "scoremean = score_mean(scores)\n",
    "print(scoremean)\n",
    "\"\"\""
   ]
  },
  {
   "cell_type": "code",
   "execution_count": 19,
   "id": "f8c79a45-878c-46d1-938c-24bb72f77367",
   "metadata": {},
   "outputs": [
    {
     "name": "stderr",
     "output_type": "stream",
     "text": [
      "C:\\Users\\Jan Catherine\\anaconda3\\lib\\site-packages\\sklearn\\linear_model\\_logistic.py:814: ConvergenceWarning: lbfgs failed to converge (status=1):\n",
      "STOP: TOTAL NO. of ITERATIONS REACHED LIMIT.\n",
      "\n",
      "Increase the number of iterations (max_iter) or scale the data as shown in:\n",
      "    https://scikit-learn.org/stable/modules/preprocessing.html\n",
      "Please also refer to the documentation for alternative solver options:\n",
      "    https://scikit-learn.org/stable/modules/linear_model.html#logistic-regression\n",
      "  n_iter_i = _check_optimize_result(\n",
      "C:\\Users\\Jan Catherine\\anaconda3\\lib\\site-packages\\sklearn\\linear_model\\_logistic.py:814: ConvergenceWarning: lbfgs failed to converge (status=1):\n",
      "STOP: TOTAL NO. of ITERATIONS REACHED LIMIT.\n",
      "\n",
      "Increase the number of iterations (max_iter) or scale the data as shown in:\n",
      "    https://scikit-learn.org/stable/modules/preprocessing.html\n",
      "Please also refer to the documentation for alternative solver options:\n",
      "    https://scikit-learn.org/stable/modules/linear_model.html#logistic-regression\n",
      "  n_iter_i = _check_optimize_result(\n",
      "C:\\Users\\Jan Catherine\\anaconda3\\lib\\site-packages\\sklearn\\linear_model\\_logistic.py:814: ConvergenceWarning: lbfgs failed to converge (status=1):\n",
      "STOP: TOTAL NO. of ITERATIONS REACHED LIMIT.\n",
      "\n",
      "Increase the number of iterations (max_iter) or scale the data as shown in:\n",
      "    https://scikit-learn.org/stable/modules/preprocessing.html\n",
      "Please also refer to the documentation for alternative solver options:\n",
      "    https://scikit-learn.org/stable/modules/linear_model.html#logistic-regression\n",
      "  n_iter_i = _check_optimize_result(\n",
      "C:\\Users\\Jan Catherine\\anaconda3\\lib\\site-packages\\sklearn\\linear_model\\_logistic.py:814: ConvergenceWarning: lbfgs failed to converge (status=1):\n",
      "STOP: TOTAL NO. of ITERATIONS REACHED LIMIT.\n",
      "\n",
      "Increase the number of iterations (max_iter) or scale the data as shown in:\n",
      "    https://scikit-learn.org/stable/modules/preprocessing.html\n",
      "Please also refer to the documentation for alternative solver options:\n",
      "    https://scikit-learn.org/stable/modules/linear_model.html#logistic-regression\n",
      "  n_iter_i = _check_optimize_result(\n",
      "C:\\Users\\Jan Catherine\\anaconda3\\lib\\site-packages\\sklearn\\linear_model\\_logistic.py:814: ConvergenceWarning: lbfgs failed to converge (status=1):\n",
      "STOP: TOTAL NO. of ITERATIONS REACHED LIMIT.\n",
      "\n",
      "Increase the number of iterations (max_iter) or scale the data as shown in:\n",
      "    https://scikit-learn.org/stable/modules/preprocessing.html\n",
      "Please also refer to the documentation for alternative solver options:\n",
      "    https://scikit-learn.org/stable/modules/linear_model.html#logistic-regression\n",
      "  n_iter_i = _check_optimize_result(\n"
     ]
    },
    {
     "name": "stdout",
     "output_type": "stream",
     "text": [
      "[[0.55232558 0.50318471 0.55479452 0.54404145 0.39779006]\n",
      " [0.89775368 0.89767442 0.89922481 0.90310078 0.87829457]\n",
      " [0.63333333 0.59398496 0.55479452 0.73943662 0.6       ]\n",
      " [0.59006211 0.54482759 0.55479452 0.62686567 0.47840532]]\n",
      "[0.55785124 0.9032858  0.73369565 0.63380282]\n"
     ]
    }
   ],
   "source": [
    "#LOGISTIC REGRESSION\n",
    "lrparams ={}\n",
    "scores, scores2=score_model(LogisticRegression, lrparams, cv=kf)\n",
    "print(scores)\n",
    "print(scores2)"
   ]
  },
  {
   "cell_type": "code",
   "execution_count": 20,
   "id": "b65acedc-1ea1-424a-a6eb-719ecdef8319",
   "metadata": {},
   "outputs": [
    {
     "name": "stdout",
     "output_type": "stream",
     "text": [
      "[0.51042726 0.89520965 0.62430989 0.55899104]\n"
     ]
    }
   ],
   "source": [
    "scoremean = score_mean(scores)\n",
    "print(scoremean)"
   ]
  },
  {
   "cell_type": "code",
   "execution_count": 21,
   "id": "a039d43f-cefd-476d-a6e7-1d054932b4f1",
   "metadata": {
    "tags": []
   },
   "outputs": [
    {
     "name": "stdout",
     "output_type": "stream",
     "text": [
      "[[0.57142857 0.66216216 0.75       0.63636364 0.56578947]\n",
      " [0.8954299  0.91550388 0.91317829 0.90852713 0.91472868]\n",
      " [0.4        0.36842105 0.34931507 0.3943662  0.35833333]\n",
      " [0.47058824 0.47342995 0.47663551 0.48695652 0.43877551]]\n",
      "[0.65891473 0.91134532 0.46195652 0.54313099]\n"
     ]
    }
   ],
   "source": [
    "#NAIVE BAYES\n",
    "nbparams ={}\n",
    "scores, scores2=score_model(GaussianNB, nbparams, cv=kf)\n",
    "print(scores)\n",
    "print(scores2)"
   ]
  },
  {
   "cell_type": "code",
   "execution_count": 22,
   "id": "65bbea45-a8b7-489b-8361-2947ba4a6e8e",
   "metadata": {},
   "outputs": [
    {
     "name": "stdout",
     "output_type": "stream",
     "text": [
      "[0.63714877 0.90947358 0.37408713 0.46927715]\n"
     ]
    }
   ],
   "source": [
    "scoremean = score_mean(scores)\n",
    "print(scoremean)"
   ]
  },
  {
   "cell_type": "code",
   "execution_count": 23,
   "id": "1eb80c9e-9ab1-4b02-b4f1-24e275598ee8",
   "metadata": {
    "tags": []
   },
   "outputs": [
    {
     "data": {
      "text/plain": [
       "'\\n#SGD\\nsgdparams ={}\\nscores=score_model(linear_model.SGDClassifier, sgdparams, cv=kf)\\nprint(scores)\\n'"
      ]
     },
     "execution_count": 23,
     "metadata": {},
     "output_type": "execute_result"
    }
   ],
   "source": [
    "\"\"\"\n",
    "#SGD\n",
    "sgdparams ={}\n",
    "scores=score_model(linear_model.SGDClassifier, sgdparams, cv=kf)\n",
    "print(scores)\n",
    "\"\"\""
   ]
  },
  {
   "cell_type": "code",
   "execution_count": 24,
   "id": "caca9a5a-5ce6-43f3-8120-0be6f8dd7a1e",
   "metadata": {},
   "outputs": [
    {
     "data": {
      "text/plain": [
       "'\\nscoremean = score_mean(scores)\\nprint(scoremean)\\n'"
      ]
     },
     "execution_count": 24,
     "metadata": {},
     "output_type": "execute_result"
    }
   ],
   "source": [
    "\"\"\"\n",
    "scoremean = score_mean(scores)\n",
    "print(scoremean)\n",
    "\"\"\""
   ]
  },
  {
   "cell_type": "code",
   "execution_count": 25,
   "id": "af00833c-1c74-44c5-9116-33d43b2d3a71",
   "metadata": {},
   "outputs": [
    {
     "name": "stdout",
     "output_type": "stream",
     "text": [
      "[[0.6984127  0.59482759 0.74285714 0.7109375  0.59663866]\n",
      " [0.92254067 0.91395349 0.92635659 0.93178295 0.9248062 ]\n",
      " [0.58666667 0.51879699 0.53424658 0.64084507 0.59166667]\n",
      " [0.63768116 0.55421687 0.62151394 0.67407407 0.59414226]]\n",
      "[0.65326633 0.92374458 0.70652174 0.67885117]\n"
     ]
    }
   ],
   "source": [
    "#SVM\n",
    "svmparams ={'kernel':'linear'}\n",
    "scores, scores2=score_model(svm.SVC, svmparams, cv=kf)\n",
    "print(scores)\n",
    "print(scores2)"
   ]
  },
  {
   "cell_type": "code",
   "execution_count": 26,
   "id": "5f81bf8b-b061-4ab0-b421-2934c07e0ba9",
   "metadata": {},
   "outputs": [
    {
     "name": "stdout",
     "output_type": "stream",
     "text": [
      "[0.66873472 0.92388798 0.57444439 0.61632566]\n"
     ]
    }
   ],
   "source": [
    "scoremean = score_mean(scores)\n",
    "print(scoremean)"
   ]
  },
  {
   "cell_type": "code",
   "execution_count": 27,
   "id": "6c179c65-31ff-47e4-9607-5b2b08b2841d",
   "metadata": {},
   "outputs": [
    {
     "name": "stdout",
     "output_type": "stream",
     "text": [
      "1.0.2\n"
     ]
    }
   ],
   "source": [
    "import sklearn\n",
    "print(sklearn.__version__)"
   ]
  }
 ],
 "metadata": {
  "kernelspec": {
   "display_name": "Python 3 (ipykernel)",
   "language": "python",
   "name": "python3"
  },
  "language_info": {
   "codemirror_mode": {
    "name": "ipython",
    "version": 3
   },
   "file_extension": ".py",
   "mimetype": "text/x-python",
   "name": "python",
   "nbconvert_exporter": "python",
   "pygments_lexer": "ipython3",
   "version": "3.9.13"
  }
 },
 "nbformat": 4,
 "nbformat_minor": 5
}
