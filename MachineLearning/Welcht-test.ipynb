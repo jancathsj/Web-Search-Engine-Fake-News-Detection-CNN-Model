{
 "cells": [
  {
   "cell_type": "code",
   "execution_count": 1,
   "id": "3d3b17c4-c1bf-43f3-a3e0-2dde945cf7aa",
   "metadata": {},
   "outputs": [
    {
     "name": "stdout",
     "output_type": "stream",
     "text": [
      "3.8.10 (tags/v3.8.10:3d8993a, May  3 2021, 11:48:03) [MSC v.1928 64 bit (AMD64)]\n"
     ]
    }
   ],
   "source": [
    "%%script C:\\Users\\Jan Catherine\\AppData\\Local\\Programs\\Python\\Python38\\python.exe\n",
    "import sys\n",
    "print(sys.version)"
   ]
  },
  {
   "cell_type": "code",
   "execution_count": 2,
   "id": "453469a8-89e6-4dbd-b424-cd6927f0c966",
   "metadata": {},
   "outputs": [],
   "source": [
    "import os\n",
    "os.chdir('Documents/CMSC Notes/2022-2023 1st Sem/CMSC 190/Dataset-fix-01/fix-02')"
   ]
  },
  {
   "cell_type": "code",
   "execution_count": 3,
   "id": "33ba58b4-8906-458f-b1d6-c028c875a8be",
   "metadata": {},
   "outputs": [],
   "source": [
    "import pandas as pd\n",
    "dataset = pd.read_csv('year_registered.csv')"
   ]
  },
  {
   "cell_type": "code",
   "execution_count": 4,
   "id": "ac5499ed-1be4-457b-af27-f0cf0077cc38",
   "metadata": {},
   "outputs": [
    {
     "data": {
      "text/html": [
       "<div>\n",
       "<style scoped>\n",
       "    .dataframe tbody tr th:only-of-type {\n",
       "        vertical-align: middle;\n",
       "    }\n",
       "\n",
       "    .dataframe tbody tr th {\n",
       "        vertical-align: top;\n",
       "    }\n",
       "\n",
       "    .dataframe thead th {\n",
       "        text-align: right;\n",
       "    }\n",
       "</style>\n",
       "<table border=\"1\" class=\"dataframe\">\n",
       "  <thead>\n",
       "    <tr style=\"text-align: right;\">\n",
       "      <th></th>\n",
       "      <th>registered</th>\n",
       "      <th>Fake</th>\n",
       "    </tr>\n",
       "  </thead>\n",
       "  <tbody>\n",
       "    <tr>\n",
       "      <th>0</th>\n",
       "      <td>1993</td>\n",
       "      <td>0</td>\n",
       "    </tr>\n",
       "    <tr>\n",
       "      <th>1</th>\n",
       "      <td>2003</td>\n",
       "      <td>0</td>\n",
       "    </tr>\n",
       "    <tr>\n",
       "      <th>2</th>\n",
       "      <td>2016</td>\n",
       "      <td>1</td>\n",
       "    </tr>\n",
       "    <tr>\n",
       "      <th>3</th>\n",
       "      <td>2013</td>\n",
       "      <td>0</td>\n",
       "    </tr>\n",
       "    <tr>\n",
       "      <th>4</th>\n",
       "      <td>2007</td>\n",
       "      <td>1</td>\n",
       "    </tr>\n",
       "  </tbody>\n",
       "</table>\n",
       "</div>"
      ],
      "text/plain": [
       "   registered  Fake\n",
       "0        1993     0\n",
       "1        2003     0\n",
       "2        2016     1\n",
       "3        2013     0\n",
       "4        2007     1"
      ]
     },
     "execution_count": 4,
     "metadata": {},
     "output_type": "execute_result"
    }
   ],
   "source": [
    "dataset.head()"
   ]
  },
  {
   "cell_type": "code",
   "execution_count": 5,
   "id": "4b8c4601-38a4-47e7-9d9e-d9316bcd2fd9",
   "metadata": {},
   "outputs": [
    {
     "data": {
      "text/plain": [
       "(3189,)"
      ]
     },
     "execution_count": 5,
     "metadata": {},
     "output_type": "execute_result"
    }
   ],
   "source": [
    "X = dataset[\"registered\"]\n",
    "y = dataset[\"Fake\"].astype(bool)\n",
    "X.shape"
   ]
  },
  {
   "cell_type": "code",
   "execution_count": 6,
   "id": "86c5007e-70a6-41ea-8fd4-f6662a52576f",
   "metadata": {},
   "outputs": [
    {
     "data": {
      "text/plain": [
       "(3189,)"
      ]
     },
     "execution_count": 6,
     "metadata": {},
     "output_type": "execute_result"
    }
   ],
   "source": [
    "y.shape"
   ]
  },
  {
   "cell_type": "code",
   "execution_count": 7,
   "id": "350cbad8-5193-4f4a-bde7-8bce31acf9cf",
   "metadata": {},
   "outputs": [
    {
     "name": "stdout",
     "output_type": "stream",
     "text": [
      "Ttest_indResult(statistic=14120.940506146751, pvalue=0.0)\n"
     ]
    }
   ],
   "source": [
    "import scipy.stats as stats\n",
    "import scipy\n",
    "import numpy as np\n",
    "data_group1 = np.array(X)\n",
    "data_group2 = np.array(y)\n",
    "# Conduct Welch's t-Test and print the result\n",
    "results = stats.ttest_ind(X, y, equal_var = False)\n",
    "print(results)"
   ]
  },
  {
   "cell_type": "code",
   "execution_count": 8,
   "id": "b1781502-d385-4765-8018-db6555376da0",
   "metadata": {},
   "outputs": [
    {
     "name": "stdout",
     "output_type": "stream",
     "text": [
      "[(200, 3.5e-323),\n",
      " (400, 5e-324),\n",
      " (600, 0.0),\n",
      " (800, 0.0),\n",
      " (1000, 0.0),\n",
      " (1200, 0.0),\n",
      " (1400, 0.0),\n",
      " (1600, 0.0),\n",
      " (1800, 0.0),\n",
      " (2000, 0.0),\n",
      " (2200, 0.0),\n",
      " (2400, 0.0),\n",
      " (2600, 0.0),\n",
      " (2800, 0.0),\n",
      " (3000, 0.0)]\n"
     ]
    }
   ],
   "source": [
    "from pprint import pprint\n",
    "pprint ([(i, scipy.stats.ks_2samp(X, y[:i])[1]) for i in range(200,len(y),200)])\n"
   ]
  },
  {
   "cell_type": "code",
   "execution_count": null,
   "id": "7d4de22a-e8a9-4627-ab45-39f088b31298",
   "metadata": {},
   "outputs": [],
   "source": []
  }
 ],
 "metadata": {
  "kernelspec": {
   "display_name": "Python 3 (ipykernel)",
   "language": "python",
   "name": "python3"
  },
  "language_info": {
   "codemirror_mode": {
    "name": "ipython",
    "version": 3
   },
   "file_extension": ".py",
   "mimetype": "text/x-python",
   "name": "python",
   "nbconvert_exporter": "python",
   "pygments_lexer": "ipython3",
   "version": "3.9.13"
  }
 },
 "nbformat": 4,
 "nbformat_minor": 5
}
